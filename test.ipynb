{
 "cells": [
  {
   "cell_type": "code",
   "execution_count": 7,
   "metadata": {},
   "outputs": [],
   "source": [
    "import os\n",
    "import requests\n",
    "from bs4 import BeautifulSoup\n",
    "import html2text\n",
    "\n",
    "# Base URL for user guide\n",
    "BASE_URL = \"https://pandas.pydata.org/docs/reference/\"\n",
    "MAIN_PAGE = BASE_URL + \"index.html\"\n",
    "\n",
    "# Directory to save the documentation\n",
    "OUTPUT_FILE = \"pandas_user_guide.txt\"\n",
    "\n",
    "def get_links():\n",
    "    \"\"\"Fetch all documentation links from the main page.\"\"\"\n",
    "    response = requests.get(MAIN_PAGE)\n",
    "    if response.status_code != 200:\n",
    "        print(\"Failed to fetch the main page.\")\n",
    "        return []\n",
    "\n",
    "    soup = BeautifulSoup(response.text, \"html.parser\")\n",
    "    \n",
    "    # Extract all internal links from the sidebar\n",
    "    links = []\n",
    "    for a in soup.select(\"ul.nav.bd-sidenav a.reference.internal\"):\n",
    "        href = a.get(\"href\")\n",
    "        if href and not href.startswith(\"http\"):  # Ignore external links\n",
    "            links.append(BASE_URL + href)\n",
    "    \n",
    "    return links\n",
    "\n",
    "def extract_text(url):\n",
    "    \"\"\"Fetch a URL and extract its text content.\"\"\"\n",
    "    try:\n",
    "        response = requests.get(url)\n",
    "        if response.status_code != 200:\n",
    "            print(f\"Failed to fetch {url}\")\n",
    "            return \"\"\n",
    "\n",
    "        soup = BeautifulSoup(response.text, \"html.parser\")\n",
    "        \n",
    "        # Remove navigation, footers, and unnecessary elements\n",
    "        for tag in soup([\"nav\", \"header\", \"footer\", \"script\", \"style\", \"aside\"]):\n",
    "            tag.extract()\n",
    "\n",
    "        # Convert HTML to readable text\n",
    "        converter = html2text.HTML2Text()\n",
    "        converter.ignore_links = True  # Remove links\n",
    "        converter.ignore_images = True  # Remove images\n",
    "\n",
    "        text = converter.handle(str(soup))\n",
    "        return text.strip()\n",
    "    \n",
    "    except Exception as e:\n",
    "        print(f\"Error processing {url}: {e}\")\n",
    "        return \"\"\n",
    "\n",
    "def save_documentation():\n",
    "    \"\"\"Scrape and save all documentation into a single file.\"\"\"\n",
    "    links = get_links()\n",
    "    if not links:\n",
    "        print(\"No links found.\")\n",
    "        return\n",
    "\n",
    "    with open(OUTPUT_FILE, \"w\", encoding=\"utf-8\") as f:\n",
    "        for i, link in enumerate(links, start=1):\n",
    "            print(f\"[{i}/{len(links)}] Fetching: {link}\")\n",
    "            text = extract_text(link)\n",
    "            f.write(f\"\\n\\n{'='*80}\\n{link}\\n{'='*80}\\n\\n{text}\\n\\n\")\n",
    "\n",
    "    print(f\"Documentation saved to {OUTPUT_FILE}\")\n",
    "\n",
    "# Run the scraper\n",
    "#save_documentation()\n"
   ]
  },
  {
   "cell_type": "code",
   "execution_count": 8,
   "metadata": {},
   "outputs": [
    {
     "name": "stdout",
     "output_type": "stream",
     "text": [
      "[1/16] Fetching: https://pandas.pydata.org/docs/reference/io.html\n",
      "[2/16] Fetching: https://pandas.pydata.org/docs/reference/general_functions.html\n",
      "[3/16] Fetching: https://pandas.pydata.org/docs/reference/series.html\n",
      "[4/16] Fetching: https://pandas.pydata.org/docs/reference/frame.html\n",
      "[5/16] Fetching: https://pandas.pydata.org/docs/reference/arrays.html\n",
      "[6/16] Fetching: https://pandas.pydata.org/docs/reference/indexing.html\n",
      "[7/16] Fetching: https://pandas.pydata.org/docs/reference/offset_frequency.html\n",
      "[8/16] Fetching: https://pandas.pydata.org/docs/reference/window.html\n",
      "[9/16] Fetching: https://pandas.pydata.org/docs/reference/groupby.html\n",
      "[10/16] Fetching: https://pandas.pydata.org/docs/reference/resampling.html\n",
      "[11/16] Fetching: https://pandas.pydata.org/docs/reference/style.html\n",
      "[12/16] Fetching: https://pandas.pydata.org/docs/reference/plotting.html\n",
      "[13/16] Fetching: https://pandas.pydata.org/docs/reference/options.html\n",
      "[14/16] Fetching: https://pandas.pydata.org/docs/reference/extensions.html\n",
      "[15/16] Fetching: https://pandas.pydata.org/docs/reference/testing.html\n",
      "[16/16] Fetching: https://pandas.pydata.org/docs/reference/missing_value.html\n",
      "Documentation saved to pandas_user_guide.txt\n"
     ]
    }
   ],
   "source": [
    "save_documentation()"
   ]
  },
  {
   "cell_type": "code",
   "execution_count": null,
   "metadata": {},
   "outputs": [],
   "source": []
  }
 ],
 "metadata": {
  "kernelspec": {
   "display_name": ".venv",
   "language": "python",
   "name": "python3"
  },
  "language_info": {
   "codemirror_mode": {
    "name": "ipython",
    "version": 3
   },
   "file_extension": ".py",
   "mimetype": "text/x-python",
   "name": "python",
   "nbconvert_exporter": "python",
   "pygments_lexer": "ipython3",
   "version": "3.12.1"
  }
 },
 "nbformat": 4,
 "nbformat_minor": 2
}
